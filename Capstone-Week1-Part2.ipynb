{
 "cells": [
  {
   "cell_type": "markdown",
   "id": "0e47ce51",
   "metadata": {},
   "source": [
    "**Capstone: Find the best neighborhood to buy a house in Texas**\n",
    "\n",
    "By Olufunmi Olugbode\n",
    "\n",
    "----\n",
    "\n",
    "**Data Requirements:**\n",
    "\n",
    "In this section, I will detail the dataset that I will need to evaluate to narrow down my preferred area to purchase a home. I am trying to decide between Houston and or Duncanville TX and I plan to collect data by the region or postal code to cluster and geo spatial map of the results showing the best neighborhood buy a house. Similar to week 3 assignment, I might need to scrape the URL page which includes the data, wrangle the data, clean it, and then read it into a pandas dataframe so that it is in a structured format. Note that additional datasets not detailed below will be used as more research is being conducted.\n",
    "\n",
    "1. I will need to look at the areas with the lowest crimes rate in TX \n",
    "I start with finding a list of the crime rate in Texas  and scrape the data in the url page\n",
    "\n",
    "https://ucr.fbi.gov/crime-in-the-u.s/2016/crime-in-the-u.s.-2016/tables/table-6/table-6-state-cuts/texas.xls\n",
    "\n",
    "2. We will need a list of school district broken down by postal code\n",
    "Import a list of populations by postal code\n",
    "\n",
    "https://www2.ed.gov/programs/reapsrsa/eligible12/tx.xls\n",
    "\n",
    "3. I will need a list of Duncanville, TX average income broken down by postal code\n",
    "I start with finding a list of the average income in Texas  and scrape the data in the url page\n",
    "\n",
    "http://zipatlas.com/us/tx/zip-code-comparison/median-household-income.html\n",
    "\n",
    "4. I will need a list of all Service / Restaurant Venues \n",
    "We use 4SQUARE API to download all venues from Houston and Duncanville, TX \n",
    "\n",
    "https://api.foursquare.com\n",
    "\n",
    "Extract Restaurants and only include Restaurants in my Data Set."
   ]
  },
  {
   "cell_type": "code",
   "execution_count": null,
   "id": "4c16e89f",
   "metadata": {},
   "outputs": [],
   "source": []
  }
 ],
 "metadata": {
  "kernelspec": {
   "display_name": "Python",
   "language": "python",
   "name": "conda-env-python-py"
  },
  "language_info": {
   "codemirror_mode": {
    "name": "ipython",
    "version": 3
   },
   "file_extension": ".py",
   "mimetype": "text/x-python",
   "name": "python",
   "nbconvert_exporter": "python",
   "pygments_lexer": "ipython3",
   "version": "3.6.13"
  }
 },
 "nbformat": 4,
 "nbformat_minor": 5
}
