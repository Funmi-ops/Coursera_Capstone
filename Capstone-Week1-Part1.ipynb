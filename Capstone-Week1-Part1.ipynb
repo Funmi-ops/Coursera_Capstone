{
 "cells": [
  {
   "cell_type": "markdown",
   "id": "fe4c7abe",
   "metadata": {},
   "source": [
    "**Capstone: Find the best neighborhood in Texas to open a house**\n",
    "\n",
    "By Olufunmi Olugbode\n",
    "\n",
    "---\n",
    "\n",
    "**Introduction:**\n",
    "\n",
    "I recently made a career change and moved to the Texas and I am trying to buy a house. In order to make a decision I am conducting research of the area to narrow down what part of the city to settle into that would fit my lifestyle, needs and budget.\n",
    "\n",
    "**Problem Description:**\n",
    "\n",
    "While price range is a major factor for most home buyers, there are many additional considerations to make when looking for a home. I refined my criteria as I started touring homes and it depends on my personal needs and some of the features that are a priority are as follows:\n",
    "1.\tSafety: Look at the crime rate in TX.\n",
    "2.\tPreferred Neighborhood: Evaluate the average income in the neighborhood.\n",
    "3.\tProximity to shopping, services and leisure activities: Distance to the establishments that I often frequent is important.\n",
    "4.\tSchool District: Considerations for the future /long term plans – family planning. \n",
    "\n",
    "As I stated, the list above focuses only on what I think is necessary to consider when buying a house pertaining to my needs. There are a few more items I have considered that would not be discussed in my research."
   ]
  },
  {
   "cell_type": "code",
   "execution_count": null,
   "id": "52ac00ca",
   "metadata": {},
   "outputs": [],
   "source": []
  }
 ],
 "metadata": {
  "kernelspec": {
   "display_name": "Python",
   "language": "python",
   "name": "conda-env-python-py"
  },
  "language_info": {
   "codemirror_mode": {
    "name": "ipython",
    "version": 3
   },
   "file_extension": ".py",
   "mimetype": "text/x-python",
   "name": "python",
   "nbconvert_exporter": "python",
   "pygments_lexer": "ipython3",
   "version": "3.6.13"
  }
 },
 "nbformat": 4,
 "nbformat_minor": 5
}
